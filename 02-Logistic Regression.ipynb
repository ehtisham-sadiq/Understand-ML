{
 "cells": [
  {
   "cell_type": "markdown",
   "id": "0a6beba7",
   "metadata": {},
   "source": [
    "\n",
    "<h1 id=\"logistic-regression\" align=\"center\">Logistic Regression</h1>"
   ]
  },
  {
   "cell_type": "markdown",
   "id": "8818fd29",
   "metadata": {},
   "source": [
    "## Outline of the Notebook\n",
    "- [1. Introduction](#1-introduction)\n",
    "- [2. Computation Graph](#2-computation-graph)\n",
    "- [3. Maximum Likelihood Estimation](#3-maximum-likelihood-estimation)\n",
    "- [4. Cost Function](#4-cost-function)\n",
    "- [5. Gradient Descent](#5-gradient-descent)\n",
    "- [6. Prediction](#6-prediction)"
   ]
  },
  {
   "cell_type": "code",
   "execution_count": null,
   "id": "d5645772",
   "metadata": {},
   "outputs": [],
   "source": []
  },
  {
   "cell_type": "code",
   "execution_count": null,
   "id": "ab840cb3",
   "metadata": {},
   "outputs": [],
   "source": []
  },
  {
   "cell_type": "code",
   "execution_count": null,
   "id": "64a3eb80",
   "metadata": {},
   "outputs": [],
   "source": []
  },
  {
   "cell_type": "code",
   "execution_count": null,
   "id": "52aedd12",
   "metadata": {},
   "outputs": [],
   "source": []
  },
  {
   "cell_type": "code",
   "execution_count": null,
   "id": "6108faab",
   "metadata": {},
   "outputs": [],
   "source": []
  },
  {
   "cell_type": "code",
   "execution_count": null,
   "id": "cd2121b1",
   "metadata": {},
   "outputs": [],
   "source": []
  }
 ],
 "metadata": {
  "kernelspec": {
   "display_name": "Python 3 (ipykernel)",
   "language": "python",
   "name": "python3"
  },
  "language_info": {
   "codemirror_mode": {
    "name": "ipython",
    "version": 3
   },
   "file_extension": ".py",
   "mimetype": "text/x-python",
   "name": "python",
   "nbconvert_exporter": "python",
   "pygments_lexer": "ipython3",
   "version": "3.8.10"
  }
 },
 "nbformat": 4,
 "nbformat_minor": 5
}
