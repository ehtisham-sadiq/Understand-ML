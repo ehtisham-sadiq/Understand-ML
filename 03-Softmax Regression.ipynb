{
 "cells": [
  {
   "cell_type": "markdown",
   "id": "1a748b88",
   "metadata": {},
   "source": [
    "<h1 align=\"center\">Softmax Regression</h1>"
   ]
  },
  {
   "cell_type": "markdown",
   "id": "a1320331",
   "metadata": {},
   "source": [
    "## Outline of the Notebook\n",
    "- [1. Introduction](#1-introduction)\n",
    "- [2. One Hot Vector Representation](#2-one-hot-vector-representation)"
   ]
  },
  {
   "cell_type": "code",
   "execution_count": null,
   "id": "e655b60b",
   "metadata": {},
   "outputs": [],
   "source": []
  },
  {
   "cell_type": "code",
   "execution_count": null,
   "id": "e8dca02c",
   "metadata": {},
   "outputs": [],
   "source": []
  }
 ],
 "metadata": {
  "kernelspec": {
   "display_name": "Python 3 (ipykernel)",
   "language": "python",
   "name": "python3"
  },
  "language_info": {
   "codemirror_mode": {
    "name": "ipython",
    "version": 3
   },
   "file_extension": ".py",
   "mimetype": "text/x-python",
   "name": "python",
   "nbconvert_exporter": "python",
   "pygments_lexer": "ipython3",
   "version": "3.8.10"
  }
 },
 "nbformat": 4,
 "nbformat_minor": 5
}
