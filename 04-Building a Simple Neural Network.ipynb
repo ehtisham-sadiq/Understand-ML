{
 "cells": [
  {
   "cell_type": "markdown",
   "id": "6ac5ff59",
   "metadata": {},
   "source": [
    "<h1 align=\"center\"> Building a Simple Neural Network </h1>"
   ]
  },
  {
   "cell_type": "markdown",
   "id": "45b011b9",
   "metadata": {},
   "source": [
    "## Outline of the Notebook\n",
    "\n",
    "- [1. Introduction](#1-introduction)\n",
    "- [2. Importing the Dataset](#2-importing-the-dataset)\n",
    "- [3. Building the Neural Network](#3-building-the-neural-network)\n",
    "- [4. Training the Neural Network](#4-training-the-neural-network)"
   ]
  },
  {
   "cell_type": "code",
   "execution_count": null,
   "id": "592ede8f",
   "metadata": {},
   "outputs": [],
   "source": []
  },
  {
   "cell_type": "code",
   "execution_count": null,
   "id": "bd67debd",
   "metadata": {},
   "outputs": [],
   "source": []
  },
  {
   "cell_type": "code",
   "execution_count": null,
   "id": "b3512cab",
   "metadata": {},
   "outputs": [],
   "source": []
  }
 ],
 "metadata": {
  "kernelspec": {
   "display_name": "Python 3 (ipykernel)",
   "language": "python",
   "name": "python3"
  },
  "language_info": {
   "codemirror_mode": {
    "name": "ipython",
    "version": 3
   },
   "file_extension": ".py",
   "mimetype": "text/x-python",
   "name": "python",
   "nbconvert_exporter": "python",
   "pygments_lexer": "ipython3",
   "version": "3.8.10"
  }
 },
 "nbformat": 4,
 "nbformat_minor": 5
}
