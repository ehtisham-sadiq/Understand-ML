{
 "cells": [
  {
   "cell_type": "code",
   "execution_count": null,
   "id": "b0043999",
   "metadata": {},
   "outputs": [],
   "source": []
  },
  {
   "cell_type": "code",
   "execution_count": null,
   "id": "ee962fae",
   "metadata": {},
   "outputs": [],
   "source": []
  },
  {
   "cell_type": "markdown",
   "id": "af0f59ff",
   "metadata": {},
   "source": [
    "\\begin{table}[htbp]\n",
    "    \\centering\n",
    "    \\begin{tabular}{|c|c|c|}\n",
    "    \\hline\n",
    "    Notation & Description & Example \\\\\n",
    "    \\hline\n",
    "    $a$ & A scalar & $a = 5$ \\\\\n",
    "    $\\mathbf{a}$ & A vector & $\\mathbf{a} = [1, 2, 3]$ \\\\\n",
    "    $\\mathbf{A}$ & A matrix & $\\mathbf{A} = \\begin{bmatrix} 1 & 2 \\\\ 3 & 4 \\end{bmatrix}$ \\\\\n",
    "    $\\mathbf{I}$ & An Identity matrix & $\\mathbf{I} = \\begin{bmatrix} 1 & 0 \\\\ 0 & 1 \\end{bmatrix}$ \\\\\n",
    "    $\\mathcal{A}$ & A set & $\\mathcal{A} = \\{1, 2, 3\\}$ \\\\\n",
    "    $\\mathbb{R}$ & A set of real numbers & $x \\in \\mathbb{R}$ \\\\\n",
    "    $a_i$ & Element $i$ of vector $\\mathbf{a}$ & $a_1 = 1$ \\\\\n",
    "    $A_{i,j}$ & Element $(i,j)$ of matrix $\\mathbf{A}$ & $A_{1,2} = 2$ \\\\\n",
    "    $A_{i,:}$ & Row $i$ of matrix $\\mathbf{A}$ & $\\mathbf{A}_{1,:} = [1, 2]$ \\\\\n",
    "    $A_{:,i}$ & Column $i$ of matrix $\\mathbf{A}$ & $\\mathbf{A}_{:,1} = \\begin{bmatrix} 1 \\\\ 3 \\end{bmatrix}$ \\\\\n",
    "    $\\mathbf{A}^\\top$ & Transpose of matrix $\\mathbf{A}$ & $\\mathbf{A}^\\top = \\begin{bmatrix} 1 & 3 \\\\ 2 & 4 \\end{bmatrix}$ \\\\\n",
    "    $\\mathbf{A} \\circ \\mathbf{B}$ & Element-wise product of $\\mathbf{A}$ and $\\mathbf{B}$ & $\\mathbf{A} \\circ \\mathbf{B} = \\begin{bmatrix} 1 & 4 \\\\ 9 & 16 \\end{bmatrix}$ \\\\\n",
    "    $\\frac{dy}{dx}$ & Derivative of $y$ with respect to $x$ & $\\frac{dy}{dx} = 2x$ \\\\\n",
    "    $\\frac{\\partial y}{\\partial x}$ & Partial derivative of $y$ with respect to $x$ & $\\frac{\\partial y}{\\partial x} = 3x^2$ \\\\\n",
    "    $\\nabla_{\\mathbf{x}} y$ & Gradient of $y$ with respect to $\\mathbf{x}$ & $\\nabla_{\\mathbf{x}} y = \\begin{bmatrix} \\frac{\\partial y}{\\partial x_1} \\\\ \\frac{\\partial y}{\\partial x_2} \\end{bmatrix}$ \\\\\n",
    "    $\\nabla_{\\mathbf{X}} y$ & Matrix derivatives of $y$ with respect to $\\mathbf{X}$ & $\\nabla_{\\mathbf{X}} y = \\begin{bmatrix} \\frac{\\partial y}{\\partial x_{11}} & \\frac{\\partial y}{\\partial x_{12}} \\\\ \\frac{\\partial y}{\\partial x_{21}} & \\frac{\\partial y}{\\partial x_{22}} \\end{bmatrix}$ \\\\\n",
    "    $\\frac{\\partial f}{\\partial x}$ & Jacobian matrix of $f$ & $\\frac{\\partial f}{\\partial x} = \\begin{bmatrix} \\frac{\\partial f_1}{\\partial x_1} & \\frac{\\partial f_1}{\\partial x_2} \\\\ \\frac{\\partial f_2}{\\partial x_1} & \\frac{\\partial f_2}{\\partial x_2} \\end{bmatrix}$ \\\\\n",
    "    $P(a)$ & Probability distribution over a discrete variable $a$ & $P(a=1) = 0.3$ \\\\\n",
    "    $p(a)$ & Probability distribution over a continuous variable $a$ & $p(a=x) = \\frac{1}{\\sqrt{2\\pi}\\sigma}e^{-\\frac{(x-\\mu)^2}{2\\sigma^2}}$ \\\\\n",
    "    $f: \\mathcal{A} \\rightarrow \\mathcal{B}$ & Function $f$ with domain $\\mathcal{A}$ and range $\\mathcal{B}$ & $f(x) = x^2$ \\\\\n",
    "    $f \\circ g$ & Composition of functions $f$ and $g$ & $(f \\circ g)(x) = f(g(x))$ \\\\\n",
    "    $\\log{x}$ & Natural logarithm of $x$ & $\\log{e} = 1$ \\\\\n",
    "    $\\mathbf{X}$ & An $m \\times n$ matrix & $\\mathbf{X} = \\begin{bmatrix} 1 & 2 \\\\ 3 & 4 \\end{bmatrix}$ \\\\\n",
    "    $x^{(i)}$ & The $i$-th example from a dataset & $x^{(1)} = [1, 2, 3]$ \\\\\n",
    "    $y^{(i)}$ & The target associated with $x^{(i)}$ & $y^{(1)} = 1$ \\\\\n",
    "    \\hline\n",
    "    \\end{tabular}\n",
    "    \\caption{Notations and Examples}\n",
    "    \\label{tab:notations_examples}\n",
    "\\end{table}\n"
   ]
  },
  {
   "cell_type": "markdown",
   "id": "ec1c4557",
   "metadata": {},
   "source": [
    "# Notation\n",
    "\n",
    "- $a$: A scalar\n",
    "- $\\mathbf{a}$: A vector\n",
    "- $\\mathbf{A}$: A matrix\n",
    "- $\\mathbf{I}$: An Identity matrix with dimensionality implied by context\n",
    "- $\\mathcal{A}$: A set\n",
    "- $\\mathbb{R}$: A set of real numbers\n",
    "- $a_i$: Element $i$ of vector $\\mathbf{a}$, indexing starting at $1$\n",
    "- $A_{i,j}$: Element $(i,j)$ of matrix $\\mathbf{A}$\n",
    "- $A_{i,:}$: Row $i$ of matrix $\\mathbf{A}$\n",
    "- $A_{:,i}$: Column $i$ of matrix $\\mathbf{A}$\n",
    "- $\\mathbf{A}^\\top$: Transpose of matrix $\\mathbf{A}$\n",
    "- $\\mathbf{A} \\circ \\mathbf{B}$: Element-wise (Hadamard) product of $\\mathbf{A}$ and $\\mathbf{B}$\n",
    "- $\\frac{dy}{dx}$: Derivative of $y$ with respect to $x$\n",
    "- $\\frac{\\partial y}{\\partial x}$: Partial derivative of $y$ with respect to $x$\n",
    "- $\\nabla_{\\mathbf{x}} y$: Gradient of $y$ with respect to $\\mathbf{x}$\n",
    "- $\\nabla_{\\mathbf{X}} y$: Matrix derivatives of $y$ with respect to $\\mathbf{X}$\n",
    "- $\\frac{\\partial f}{\\partial x}$: Jacobian matrix $\\mathbf{J} \\in \\mathbb{R}^{m \\times n}$ of $f: \\mathbb{R}^n \\rightarrow \\mathbb{R}^m$\n",
    "- $P(a)$: A probability distribution over a discrete variable $a$\n",
    "- $p(a)$: A probability distribution over a continuous variable $a$\n",
    "- $f: \\mathcal{A} \\rightarrow \\mathcal{B}$: A function $f$ with domain $\\mathcal{A}$ and range $\\mathcal{B}$\n",
    "- $f \\circ g$: Composition of the functions $f$ and $g$\n",
    "- $\\log{x}$: Natural logarithm of $x$\n",
    "- $\\mathbf{X}$: An $m \\times n$ matrix with input example $x^{(i)}$ in row $\\mathbf{X}_i$\n",
    "- $x^{(i)}$: The $i$-th example (input) from a dataset\n",
    "- $y^{(i)}$: The target associated with $x^{(i)}$ for supervised learning\n"
   ]
  },
  {
   "cell_type": "code",
   "execution_count": null,
   "id": "55872cd1",
   "metadata": {},
   "outputs": [],
   "source": []
  },
  {
   "cell_type": "code",
   "execution_count": null,
   "id": "3c09d3ff",
   "metadata": {},
   "outputs": [],
   "source": []
  },
  {
   "cell_type": "code",
   "execution_count": null,
   "id": "19b1bd6c",
   "metadata": {},
   "outputs": [],
   "source": []
  },
  {
   "cell_type": "code",
   "execution_count": null,
   "id": "19ba9c4c",
   "metadata": {},
   "outputs": [],
   "source": []
  },
  {
   "cell_type": "code",
   "execution_count": null,
   "id": "fdfda416",
   "metadata": {},
   "outputs": [],
   "source": []
  },
  {
   "cell_type": "code",
   "execution_count": null,
   "id": "9e9d5a3c",
   "metadata": {},
   "outputs": [],
   "source": []
  },
  {
   "cell_type": "code",
   "execution_count": null,
   "id": "04b096c0",
   "metadata": {},
   "outputs": [],
   "source": []
  },
  {
   "cell_type": "code",
   "execution_count": null,
   "id": "97e2a22d",
   "metadata": {},
   "outputs": [],
   "source": []
  },
  {
   "cell_type": "code",
   "execution_count": null,
   "id": "51cd5e2f",
   "metadata": {},
   "outputs": [],
   "source": []
  },
  {
   "cell_type": "code",
   "execution_count": null,
   "id": "bf414c69",
   "metadata": {},
   "outputs": [],
   "source": []
  },
  {
   "cell_type": "code",
   "execution_count": null,
   "id": "1451fbe2",
   "metadata": {},
   "outputs": [],
   "source": []
  },
  {
   "cell_type": "code",
   "execution_count": null,
   "id": "96b2e4d0",
   "metadata": {},
   "outputs": [],
   "source": []
  },
  {
   "cell_type": "code",
   "execution_count": null,
   "id": "34f0e45e",
   "metadata": {},
   "outputs": [],
   "source": []
  },
  {
   "cell_type": "code",
   "execution_count": null,
   "id": "1308663a",
   "metadata": {},
   "outputs": [],
   "source": []
  },
  {
   "cell_type": "code",
   "execution_count": null,
   "id": "0feb1db7",
   "metadata": {},
   "outputs": [],
   "source": []
  },
  {
   "cell_type": "code",
   "execution_count": null,
   "id": "f3821a6f",
   "metadata": {},
   "outputs": [],
   "source": []
  }
 ],
 "metadata": {
  "kernelspec": {
   "display_name": "Python 3 (ipykernel)",
   "language": "python",
   "name": "python3"
  },
  "language_info": {
   "codemirror_mode": {
    "name": "ipython",
    "version": 3
   },
   "file_extension": ".py",
   "mimetype": "text/x-python",
   "name": "python",
   "nbconvert_exporter": "python",
   "pygments_lexer": "ipython3",
   "version": "3.8.10"
  }
 },
 "nbformat": 4,
 "nbformat_minor": 5
}
