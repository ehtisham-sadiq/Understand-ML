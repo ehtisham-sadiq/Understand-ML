{
 "cells": [
  {
   "cell_type": "markdown",
   "id": "09e02620",
   "metadata": {},
   "source": [
    "<h1 align=\"center\">Convolutional Neural Networks</h1>"
   ]
  },
  {
   "cell_type": "markdown",
   "id": "480ff4dc",
   "metadata": {},
   "source": [
    "## Outline of the Notebook\n",
    "- [1. Introduction to Convolutional Neural Networks](#1-introduction-to-convolutional-neural-networks)\n",
    "- [2. The Convolutional Layer](#2-the-convolutional-layer)\n",
    "- [3. The Pooling Layer](#3-the-pooling-layer)\n",
    "- [4. The Fully Connected Layer](#4-the-fully-connected-layer)\n",
    "- [5. Training a Convolutional Neural Network](#5-training-a-convolutional-neural-network)\n",
    "- [6. Evaluating a Convolutional Neural Network](#6-evaluating-a-convolutional-neural-network)\n",
    "- [7. Tuning a Convolutional Neural Network](#7-tuning-a-convolutional-neural-network)\n"
   ]
  },
  {
   "cell_type": "code",
   "execution_count": null,
   "id": "46c27723",
   "metadata": {},
   "outputs": [],
   "source": []
  }
 ],
 "metadata": {
  "kernelspec": {
   "display_name": "Python 3 (ipykernel)",
   "language": "python",
   "name": "python3"
  },
  "language_info": {
   "codemirror_mode": {
    "name": "ipython",
    "version": 3
   },
   "file_extension": ".py",
   "mimetype": "text/x-python",
   "name": "python",
   "nbconvert_exporter": "python",
   "pygments_lexer": "ipython3",
   "version": "3.8.10"
  }
 },
 "nbformat": 4,
 "nbformat_minor": 5
}
